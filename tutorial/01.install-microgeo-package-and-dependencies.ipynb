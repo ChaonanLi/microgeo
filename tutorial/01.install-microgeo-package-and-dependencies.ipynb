{
 "cells": [
  {
   "cell_type": "markdown",
   "id": "ecdf579a-a5d0-4297-bf6b-dcd9116a15b7",
   "metadata": {},
   "source": [
    "# Install `microgeo` R package and its dependencies"
   ]
  },
  {
   "cell_type": "markdown",
   "id": "6060e724-3ed0-4be9-bd19-61b993a59d95",
   "metadata": {},
   "source": [
    " "
   ]
  },
  {
   "cell_type": "markdown",
   "id": "245c81c6-6140-4fcc-971d-ae38bc82b137",
   "metadata": {},
   "source": [
    "Created by \n",
    "* [Li, Chaonan (李超男)](https://www.researchgate.net/profile/Chaonan-Li-5) / licn@mtc.edu.cn / [Ecological Security and Protection Key Laboratory of Sichuan Province, Mianyang Normal University](https://zdsys.mtc.edu.cn/)\n",
    "* Liao, Haijun (廖海君) / liaohj@mtc.edu.cn /\n",
    "[Engineering Research Center of Chuanxibei RHS Construction at Mianyang Normal University of Sichuan Province](https://rhs.mtc.edu.cn/)\n",
    "\n",
    "Reviewed by [Li, Xiangzhen (李香真)](https://www.researchgate.net/profile/Xiangzhen-Li-2) / lixz@fafu.edu.cn /\n",
    "[College of Resources and Environment, Fujian Agriculture and Forestry University](https://zhxy.fafu.edu.cn/main.htm)"
   ]
  },
  {
   "cell_type": "markdown",
   "id": "3b239d94-5579-40c8-ab91-4bcebf702f9d",
   "metadata": {},
   "source": [
    " "
   ]
  },
  {
   "cell_type": "markdown",
   "id": "28b99982-c862-40ad-afa6-ceebc02f7c57",
   "metadata": {},
   "source": [
    "The [microgeo](https://github.com/ChaonanLi/microgeo) requires ![](https://img.shields.io/badge/R->=4.1.2-orange), ![](https://img.shields.io/badge/GDAL->=3.4.1-green) and several R packages. You can refer to the methods described on their official websites to install [R](https://www.r-project.org/) and [GDAL](https://gdal.org/). Regarding to other R packages, you can use `install.packages()` or `devtools::install_github()` to install them. The dependent R packages are as follows：\n",
    "\n",
    "![](https://img.shields.io/badge/psych->=2.3.6-orange) ![](https://img.shields.io/badge/vegan->=2.6.4-red) ![](https://img.shields.io/badge/picante->=1.8.2-lightblue) ![](https://img.shields.io/badge/GUniFrac->=1.7-brown) ![](https://img.shields.io/badge/iCAMP->=1.5.12-orange) ![](https://img.shields.io/badge/showtext->=0.9.6-orange) ![](https://img.shields.io/badge/RColorBrewer->=1.1.3-brown) ![](https://img.shields.io/badge/terra->=1.7.46-blue) ![](https://img.shields.io/badge/geodata->=0.5.8-orange) ![](https://img.shields.io/badge/sf->=1.0.14-lightblue) ![](https://img.shields.io/badge/dplyr->=1.1.3-brown) ![](https://img.shields.io/badge/sp->=2.0.0-green) ![](https://img.shields.io/badge/rgdal->=1.6.7-red) ![](https://img.shields.io/badge/raster->=3.6.23-orange) ![](https://img.shields.io/badge/rgeos->=0.6.4-brown) ![](https://img.shields.io/badge/randomcoloR->=1.1.0.1-lightblue) ![](https://img.shields.io/badge/tidyterra->=0.4.0-blue) ![](https://img.shields.io/badge/ggspatial->=1.1.9-red) ![](https://img.shields.io/badge/ggplot2->=3.4.3-orange) ![](https://img.shields.io/badge/ggnewscale->=0.4.9-red) ![](https://img.shields.io/badge/ape->=5.7.1-orange) ![](https://img.shields.io/badge/cli->=3.6.1-brown) ![](https://img.shields.io/badge/gstat->=2.1.1-green) ![](https://img.shields.io/badge/caret->=6.0.94-orange) ![](https://img.shields.io/badge/parallel->=4.1.2-blue) ![](https://img.shields.io/badge/doParallel->=1.0.17-lightblue) ![](https://img.shields.io/badge/multiROC->=1.1.1-darkgreen) ![](https://img.shields.io/badge/httr->=1.4.7-blue) ![](https://img.shields.io/badge/utils->=4.1.2-red) ![](https://img.shields.io/badge/MODIS->=1.2.11-blue) ![](https://img.shields.io/badge/magrittr->=2.0.3-green) ![](https://img.shields.io/badge/snow->=0.4.4-blue)"
   ]
  },
  {
   "cell_type": "markdown",
   "id": "38b57312-0fae-4d95-9f7c-2e6d2b2562bf",
   "metadata": {},
   "source": [
    "![microgeo](../images/microgeo-workflow.png)"
   ]
  },
  {
   "cell_type": "markdown",
   "id": "7f72a1ac-3e26-40fc-9532-c8598609b818",
   "metadata": {},
   "source": [
    "To install [microgeo](https://github.com/ChaonanLi/microgeo), just type following codes in your R console. The installation may take a few minutes due to the large size of packages and their dependencies. Due to network conditions, you may experience slow speeds when using `devtools::install_github()` to install [microgeo](https://github.com/ChaonanLi/microgeo). Please be patient and wait for the process to complete."
   ]
  },
  {
   "cell_type": "code",
   "execution_count": 1,
   "id": "3359b5b2-ed8c-40f1-beb3-b54c1cbbd001",
   "metadata": {
    "execution": {
     "iopub.execute_input": "2023-10-12T02:49:01.513829Z",
     "iopub.status.busy": "2023-10-12T02:49:01.512426Z",
     "iopub.status.idle": "2023-10-12T02:49:02.115857Z",
     "shell.execute_reply": "2023-10-12T02:49:02.114606Z"
    }
   },
   "outputs": [],
   "source": [
    "# Install `magrittr`, `ggplot2`, `devtools` and `microgeo` packages \n",
    "if (!suppressMessages(require(magrittr)))    install.packages(\"magrittr\")\n",
    "if (!require(ggplot2)  %>% suppressMessages) install.packages(\"ggplot2\")\n",
    "if (!require(devtools) %>% suppressMessages) install.packages(\"devtools\")\n",
    "if (!require(microgeo) %>% suppressMessages) devtools::install_github(\"ChaonanLi/microgeo\")"
   ]
  },
  {
   "cell_type": "code",
   "execution_count": 2,
   "id": "d044219d-b08d-45e2-8571-b7cef4156c94",
   "metadata": {
    "execution": {
     "iopub.execute_input": "2023-10-12T02:49:02.135154Z",
     "iopub.status.busy": "2023-10-12T02:49:02.117563Z",
     "iopub.status.idle": "2023-10-12T02:49:02.147984Z",
     "shell.execute_reply": "2023-10-12T02:49:02.147126Z"
    }
   },
   "outputs": [
    {
     "name": "stdout",
     "output_type": "stream",
     "text": [
      "[1] ‘2.0.3’\n",
      "[1] ‘3.4.3’\n",
      "[1] ‘0.1.1’\n"
     ]
    }
   ],
   "source": [
    "# Check the version of packages \n",
    "for (pkg in c('magrittr', 'ggplot2', 'microgeo')) packageVersion(pkg) %>% print()"
   ]
  },
  {
   "cell_type": "markdown",
   "id": "f80bc28b-5033-4ea6-a5bb-3f34b4057f54",
   "metadata": {},
   "source": [
    "The default R graphic device may not display several special Unicode characters correctly. The `showtext::showtext_auto()` function can extend the text display capabilities of the default R graphic device, allowing us to customize text styles more freely and flexibly, thereby resulting in better text display effects. Because the map data used in this tutorial contains several Chinese characters, we need to run the `showtext::showtext_auto(enable = TRUE)` before starting the presentation."
   ]
  },
  {
   "cell_type": "code",
   "execution_count": 3,
   "id": "f42c7324-f6ab-49b0-9dfa-4010df2f8579",
   "metadata": {
    "execution": {
     "iopub.execute_input": "2023-10-12T02:49:02.150022Z",
     "iopub.status.busy": "2023-10-12T02:49:02.149335Z",
     "iopub.status.idle": "2023-10-12T02:49:02.198555Z",
     "shell.execute_reply": "2023-10-12T02:49:02.197651Z"
    }
   },
   "outputs": [],
   "source": [
    "# Enable the display of Chinese characters on figure\n",
    "showtext::showtext_auto(enable = TRUE)"
   ]
  }
 ],
 "metadata": {
  "kernelspec": {
   "display_name": "R",
   "language": "R",
   "name": "ir"
  },
  "language_info": {
   "codemirror_mode": "r",
   "file_extension": ".r",
   "mimetype": "text/x-r-source",
   "name": "R",
   "pygments_lexer": "r",
   "version": "4.1.2"
  }
 },
 "nbformat": 4,
 "nbformat_minor": 5
}
