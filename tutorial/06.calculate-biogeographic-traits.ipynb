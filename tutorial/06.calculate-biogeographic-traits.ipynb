{
 "cells": [
  {
   "cell_type": "markdown",
   "id": "528188fd-1ef0-4bd8-ac6c-3261d461681f",
   "metadata": {},
   "source": [
    "# Calculate biogeographic traits"
   ]
  },
  {
   "cell_type": "markdown",
   "id": "68e968ae-f80a-4bab-a60d-83bd94f3dd37",
   "metadata": {},
   "source": [
    " "
   ]
  },
  {
   "cell_type": "markdown",
   "id": "949b7534-91d8-4ab4-abcb-aee8ba0f92b1",
   "metadata": {},
   "source": [
    "Created by \n",
    "* [Li, Chaonan (李超男)](https://www.researchgate.net/profile/Chaonan-Li-5) / licn@mtc.edu.cn / [Ecological Security and Protection Key Laboratory of Sichuan Province, Mianyang Normal University](https://zdsys.mtc.edu.cn/)\n",
    "* Liao, Haijun (廖海君) / liaohj@mtc.edu.cn /\n",
    "[Engineering Research Center of Chuanxibei RHS Construction at Mianyang Normal University of Sichuan Province](https://rhs.mtc.edu.cn/)\n",
    "\n",
    "Reviewed by [Li, Xiangzhen (李香真)](https://www.researchgate.net/profile/Xiangzhen-Li-2) / lixz@fafu.edu.cn /\n",
    "[College of Resources and Environment, Fujian Agriculture and Forestry University](https://zhxy.fafu.edu.cn/main.htm)"
   ]
  },
  {
   "cell_type": "markdown",
   "id": "d0ef7a79-98e1-42aa-92b2-27a99fa43ecd",
   "metadata": {},
   "source": [
    " "
   ]
  },
  {
   "cell_type": "markdown",
   "id": "b2c8dd1e-6d11-423b-a932-1fcd7bcda1fe",
   "metadata": {},
   "source": [
    "Our focus is on the spatial distribution of microbial traits, so we also need to calculate some microbial community measures. The [microgeo](https://github.com/ChaonanLi/microgeo) R package provides some basic functions for calculating microbial relative abundance, diversity, and community assembly mechanism indicators. Of course, you can also visualize more microbial traits onto maps, not limited to the traits calculated by the [microgeo](https://github.com/ChaonanLi/microgeo) package."
   ]
  },
  {
   "cell_type": "markdown",
   "id": "edf077e6-af8c-4c66-ae5b-3b83842be14b",
   "metadata": {},
   "source": [
    "## Load required R packages"
   ]
  },
  {
   "cell_type": "markdown",
   "id": "af886f4b-84de-44dc-8d85-57610f7f71d5",
   "metadata": {},
   "source": [
    "Here we need four R packages for this section of microgeo R package tutorial. Just run the following codes to import them into R environment."
   ]
  },
  {
   "cell_type": "code",
   "execution_count": 1,
   "id": "1fe8392a-849c-4f04-8ef7-b089e95a9138",
   "metadata": {
    "execution": {
     "iopub.execute_input": "2023-10-12T02:49:47.411141Z",
     "iopub.status.busy": "2023-10-12T02:49:47.409819Z",
     "iopub.status.idle": "2023-10-12T02:49:47.990864Z",
     "shell.execute_reply": "2023-10-12T02:49:47.989205Z"
    }
   },
   "outputs": [],
   "source": [
    "# Install and load `magrittr`, `ggplot2`, `devtools` and `microgeo` packages \n",
    "if (!suppressMessages(require(magrittr))) install.packages(\"magrittr\")\n",
    "if (!require(ggplot2)  %>% suppressMessages) install.packages(\"ggplot2\")\n",
    "if (!require(devtools) %>% suppressMessages) install.packages(\"devtools\")\n",
    "if (!require(microgeo) %>% suppressMessages) devtools::install_github(\"ChaonanLi/microgeo\")"
   ]
  },
  {
   "cell_type": "markdown",
   "id": "fe56ec4e-383c-4b46-8e50-f2440a8600c8",
   "metadata": {},
   "source": [
    "## Create a standard microgeo dataset"
   ]
  },
  {
   "cell_type": "markdown",
   "id": "c20ab839-39b2-4294-9e72-7f482b7cea62",
   "metadata": {},
   "source": [
    "We also need a standard microgeo dataset for the presentations in the section of tutorial."
   ]
  },
  {
   "cell_type": "code",
   "execution_count": 2,
   "id": "7189c6c5-7646-4505-af6d-06c2d777c708",
   "metadata": {
    "execution": {
     "iopub.execute_input": "2023-10-12T02:49:48.013855Z",
     "iopub.status.busy": "2023-10-12T02:49:47.992836Z",
     "iopub.status.idle": "2023-10-12T02:49:59.872471Z",
     "shell.execute_reply": "2023-10-12T02:49:59.871547Z"
    }
   },
   "outputs": [
    {
     "name": "stderr",
     "output_type": "stream",
     "text": [
      "\u001b[36mℹ\u001b[39m [2023-10-12 10:49:54] \u001b[34m\u001b[3m\u001b[34mINFO\u001b[34m\u001b[23m\u001b[39m ==> all samples fall within the map area!\n",
      "\n",
      "\u001b[36mℹ\u001b[39m [2023-10-12 10:49:54] \u001b[34m\u001b[3m\u001b[34mINFO\u001b[34m\u001b[23m\u001b[39m ==> dataset has been created successfully!\n",
      "\n",
      "\u001b[36mℹ\u001b[39m [2023-10-12 10:49:54] \u001b[34m\u001b[3m\u001b[34mINFO\u001b[34m\u001b[23m\u001b[39m ==> use `object %>% show_dataset()` to check the summary of dataset.\n",
      "\n",
      "\u001b[36mℹ\u001b[39m [2023-10-12 10:49:57] \u001b[34m\u001b[3m\u001b[34mINFO\u001b[34m\u001b[23m\u001b[39m ==> the ASV/gene abundance table has been rarefied with a sub-sample depth of 5310\n",
      "\n"
     ]
    },
    {
     "name": "stdout",
     "output_type": "stream",
     "text": [
      "\u001b[34m──\u001b[39m \u001b[34mThe Summary of Microgeo Dataset\u001b[39m \u001b[34m─────────────────────────────────────────────\u001b[39m\n"
     ]
    },
    {
     "name": "stderr",
     "output_type": "stream",
     "text": [
      "\u001b[36mℹ\u001b[39m object$mat: 6808 ASVs/genes and 1244 samples \u001b[32m\u001b[3m\u001b[32m[subsample depth: 5310]\u001b[32m\u001b[23m\u001b[39m\n",
      "\n",
      "\u001b[36mℹ\u001b[39m object$ant: 6808 ASVs/genes and 7 annotation levels (Kingdom, Phylum, Class, Order, Family, Genus, Species)\n",
      "\n",
      "\u001b[36mℹ\u001b[39m object$met: 1244 samples and 2 variables (longitude, latitude)\n",
      "\n",
      "\u001b[36mℹ\u001b[39m object$map: a SpatialPolygonsDataFrame with the CRS of '+proj=longlat +datum=WGS84 +no_defs'\n",
      "\n",
      "\u001b[36mℹ\u001b[39m object$phy: a phylogenetic tree with 6808 tip labels\n",
      "\n",
      "\u001b[36mℹ\u001b[39m object$env: 1244 samples and 10 variables\n",
      "\n"
     ]
    },
    {
     "name": "stdout",
     "output_type": "stream",
     "text": [
      "\n",
      "\u001b[44m• To check the summary of dataset, Replace `object` with the variable name of your dataset\u001b[49m\n",
      "\u001b[44m• For example, if the variable name is `dataset.dts`you can run `head(dataset.dts$met)` to check the content of `met`\u001b[49m\n"
     ]
    }
   ],
   "source": [
    "# Example by using the map downloaded from DataV.GeoAtlas\n",
    "data(qtp)\n",
    "map <- read_aliyun_map(adcode = c(540000, 630000, 510000)) %>% suppressMessages() \n",
    "dataset.dts.aliyun <- create_dataset(mat = qtp$asv, ant = qtp$tax, met = qtp$met, map = map,\n",
    "                                     phy = qtp$tre, env = qtp$env, lon = \"longitude\", lat = \"latitude\") \n",
    "dataset.dts.aliyun %<>% rarefy_count_table() \n",
    "dataset.dts.aliyun %<>% tidy_dataset()\n",
    "dataset.dts.aliyun %>% show_dataset()"
   ]
  },
  {
   "cell_type": "markdown",
   "id": "9836dd65-3ad1-46b9-aaad-eb27774a0a9f",
   "metadata": {},
   "source": [
    "## Calculate the relative abundance"
   ]
  },
  {
   "cell_type": "markdown",
   "id": "34282341-bd72-4523-92d8-de8954a93c80",
   "metadata": {},
   "source": [
    "We implemented a function named by `calc_rel_abund()`, which calculates the relative abundance of ASVs/genes at each of classification level. Just run the following codes."
   ]
  },
  {
   "cell_type": "code",
   "execution_count": 3,
   "id": "543e20f2-cc79-4e31-abfe-4d92d9906cbf",
   "metadata": {
    "execution": {
     "iopub.execute_input": "2023-10-12T02:49:59.874849Z",
     "iopub.status.busy": "2023-10-12T02:49:59.873960Z",
     "iopub.status.idle": "2023-10-12T02:50:05.338789Z",
     "shell.execute_reply": "2023-10-12T02:50:05.337824Z"
    }
   },
   "outputs": [
    {
     "data": {
      "text/html": [
       "<table class=\"dataframe\">\n",
       "<caption>A data.frame: 6 × 5</caption>\n",
       "<thead>\n",
       "\t<tr><th></th><th scope=col>p__</th><th scope=col>p__Acidobacteria</th><th scope=col>p__Actinobacteria</th><th scope=col>p__Armatimonadetes</th><th scope=col>p__Bacteroidetes</th></tr>\n",
       "\t<tr><th></th><th scope=col>&lt;dbl&gt;</th><th scope=col>&lt;dbl&gt;</th><th scope=col>&lt;dbl&gt;</th><th scope=col>&lt;dbl&gt;</th><th scope=col>&lt;dbl&gt;</th></tr>\n",
       "</thead>\n",
       "<tbody>\n",
       "\t<tr><th scope=row>s1</th><td>0.22598870</td><td>13.50282</td><td>49.26554</td><td>0.07532957</td><td>1.920904</td></tr>\n",
       "\t<tr><th scope=row>s2</th><td>0.09416196</td><td>13.38983</td><td>51.46893</td><td>0.16949153</td><td>1.996234</td></tr>\n",
       "\t<tr><th scope=row>s3</th><td>0.16949153</td><td>21.41243</td><td>42.90019</td><td>0.01883239</td><td>1.638418</td></tr>\n",
       "\t<tr><th scope=row>s4</th><td>0.13182674</td><td>15.96987</td><td>46.93032</td><td>0.00000000</td><td>4.500942</td></tr>\n",
       "\t<tr><th scope=row>s5</th><td>0.22598870</td><td>13.46516</td><td>54.42561</td><td>0.11299435</td><td>1.299435</td></tr>\n",
       "\t<tr><th scope=row>s6</th><td>0.28248588</td><td>14.63277</td><td>47.06215</td><td>0.09416196</td><td>2.749529</td></tr>\n",
       "</tbody>\n",
       "</table>\n"
      ],
      "text/latex": [
       "A data.frame: 6 × 5\n",
       "\\begin{tabular}{r|lllll}\n",
       "  & p\\_\\_ & p\\_\\_Acidobacteria & p\\_\\_Actinobacteria & p\\_\\_Armatimonadetes & p\\_\\_Bacteroidetes\\\\\n",
       "  & <dbl> & <dbl> & <dbl> & <dbl> & <dbl>\\\\\n",
       "\\hline\n",
       "\ts1 & 0.22598870 & 13.50282 & 49.26554 & 0.07532957 & 1.920904\\\\\n",
       "\ts2 & 0.09416196 & 13.38983 & 51.46893 & 0.16949153 & 1.996234\\\\\n",
       "\ts3 & 0.16949153 & 21.41243 & 42.90019 & 0.01883239 & 1.638418\\\\\n",
       "\ts4 & 0.13182674 & 15.96987 & 46.93032 & 0.00000000 & 4.500942\\\\\n",
       "\ts5 & 0.22598870 & 13.46516 & 54.42561 & 0.11299435 & 1.299435\\\\\n",
       "\ts6 & 0.28248588 & 14.63277 & 47.06215 & 0.09416196 & 2.749529\\\\\n",
       "\\end{tabular}\n"
      ],
      "text/markdown": [
       "\n",
       "A data.frame: 6 × 5\n",
       "\n",
       "| <!--/--> | p__ &lt;dbl&gt; | p__Acidobacteria &lt;dbl&gt; | p__Actinobacteria &lt;dbl&gt; | p__Armatimonadetes &lt;dbl&gt; | p__Bacteroidetes &lt;dbl&gt; |\n",
       "|---|---|---|---|---|---|\n",
       "| s1 | 0.22598870 | 13.50282 | 49.26554 | 0.07532957 | 1.920904 |\n",
       "| s2 | 0.09416196 | 13.38983 | 51.46893 | 0.16949153 | 1.996234 |\n",
       "| s3 | 0.16949153 | 21.41243 | 42.90019 | 0.01883239 | 1.638418 |\n",
       "| s4 | 0.13182674 | 15.96987 | 46.93032 | 0.00000000 | 4.500942 |\n",
       "| s5 | 0.22598870 | 13.46516 | 54.42561 | 0.11299435 | 1.299435 |\n",
       "| s6 | 0.28248588 | 14.63277 | 47.06215 | 0.09416196 | 2.749529 |\n",
       "\n"
      ],
      "text/plain": [
       "   p__        p__Acidobacteria p__Actinobacteria p__Armatimonadetes\n",
       "s1 0.22598870 13.50282         49.26554          0.07532957        \n",
       "s2 0.09416196 13.38983         51.46893          0.16949153        \n",
       "s3 0.16949153 21.41243         42.90019          0.01883239        \n",
       "s4 0.13182674 15.96987         46.93032          0.00000000        \n",
       "s5 0.22598870 13.46516         54.42561          0.11299435        \n",
       "s6 0.28248588 14.63277         47.06215          0.09416196        \n",
       "   p__Bacteroidetes\n",
       "s1 1.920904        \n",
       "s2 1.996234        \n",
       "s3 1.638418        \n",
       "s4 4.500942        \n",
       "s5 1.299435        \n",
       "s6 2.749529        "
      ]
     },
     "metadata": {},
     "output_type": "display_data"
    }
   ],
   "source": [
    "# Calculate relative abundance\n",
    "dataset.dts.aliyun %<>% calc_rel_abund() %>% suppressMessages()\n",
    "head(dataset.dts.aliyun$abd$raw$Phylum[,1:5])"
   ]
  },
  {
   "cell_type": "code",
   "execution_count": 4,
   "id": "1e2c60ce-d17d-4c62-978d-3f23a81187ec",
   "metadata": {
    "execution": {
     "iopub.execute_input": "2023-10-12T02:50:05.341031Z",
     "iopub.status.busy": "2023-10-12T02:50:05.340281Z",
     "iopub.status.idle": "2023-10-12T02:50:05.509494Z",
     "shell.execute_reply": "2023-10-12T02:50:05.508601Z"
    }
   },
   "outputs": [
    {
     "name": "stdout",
     "output_type": "stream",
     "text": [
      "\u001b[34m──\u001b[39m \u001b[34mThe Summary of Microgeo Dataset\u001b[39m \u001b[34m─────────────────────────────────────────────\u001b[39m\n"
     ]
    },
    {
     "name": "stderr",
     "output_type": "stream",
     "text": [
      "\u001b[36mℹ\u001b[39m object$mat: 6808 ASVs/genes and 1244 samples \u001b[32m\u001b[3m\u001b[32m[subsample depth: 5310]\u001b[32m\u001b[23m\u001b[39m\n",
      "\n",
      "\u001b[36mℹ\u001b[39m object$ant: 6808 ASVs/genes and 7 annotation levels (Kingdom, Phylum, Class, Order, Family, Genus, Species)\n",
      "\n",
      "\u001b[36mℹ\u001b[39m object$met: 1244 samples and 2 variables (longitude, latitude)\n",
      "\n",
      "\u001b[36mℹ\u001b[39m object$map: a SpatialPolygonsDataFrame with the CRS of '+proj=longlat +datum=WGS84 +no_defs'\n",
      "\n",
      "\u001b[36mℹ\u001b[39m object$phy: a phylogenetic tree with 6808 tip labels\n",
      "\n",
      "\u001b[36mℹ\u001b[39m object$env: 1244 samples and 10 variables\n",
      "\n"
     ]
    },
    {
     "name": "stdout",
     "output_type": "stream",
     "text": [
      "\n",
      "\u001b[30m──\u001b[39m \u001b[30mThe Summary of Biogeographic Traits\u001b[39m \u001b[30m─────────────────────────────────────────\u001b[39m\n"
     ]
    },
    {
     "name": "stderr",
     "output_type": "stream",
     "text": [
      "\u001b[32m✔\u001b[39m object$abd$raw: 7 abundance tables (Kingdom, Phylum, Class, Order, Family, Genus, Species)\n",
      "\n"
     ]
    },
    {
     "name": "stdout",
     "output_type": "stream",
     "text": [
      "\n",
      "\u001b[44m• To check the summary of dataset, Replace `object` with the variable name of your dataset\u001b[49m\n",
      "\u001b[44m• For example, if the variable name is `dataset.dts`you can run `head(dataset.dts$met)` to check the content of `met`\u001b[49m\n"
     ]
    }
   ],
   "source": [
    "# Show dataset \n",
    "dataset.dts.aliyun %>% show_dataset()"
   ]
  },
  {
   "cell_type": "markdown",
   "id": "bbe9c872-4c38-4b99-8a38-af47d370ea3c",
   "metadata": {},
   "source": [
    "## Calculate the ecological markers"
   ]
  },
  {
   "cell_type": "markdown",
   "id": "be206581-81d4-494e-95e0-f4e97f9e6439",
   "metadata": {},
   "source": [
    "We also designed a function named by `calc_markers()`, which identifies the potentially ecological markers base on the relative abundance of ASV/genes at a given classification level. If there is only one environmnetal variable for the identification, then a correlation method would be used. If the are two or more environmental variables, then a mantel test would be applied. **Please note that such a function only works when the relative abundance of ASVs/genes are available!**. "
   ]
  },
  {
   "cell_type": "code",
   "execution_count": 5,
   "id": "ca8ff1ed-5e48-4ec7-b5e8-896b178cf227",
   "metadata": {
    "execution": {
     "iopub.execute_input": "2023-10-12T02:50:05.511560Z",
     "iopub.status.busy": "2023-10-12T02:50:05.510874Z",
     "iopub.status.idle": "2023-10-12T02:50:05.540493Z",
     "shell.execute_reply": "2023-10-12T02:50:05.539639Z"
    }
   },
   "outputs": [],
   "source": [
    "# Identify ecological markers based on soil pH in <env>[Correlation]\n",
    "dataset.dts.aliyun %<>% calc_markers(use.var = 'pH', annotation.level = 'Phylum', r.thres = 0.1, use.dat = 'env') %>% suppressMessages()"
   ]
  },
  {
   "cell_type": "code",
   "execution_count": 6,
   "id": "fa9943b1-8b6b-4019-bd00-816455d9f1c7",
   "metadata": {
    "execution": {
     "iopub.execute_input": "2023-10-12T02:50:05.542504Z",
     "iopub.status.busy": "2023-10-12T02:50:05.541833Z",
     "iopub.status.idle": "2023-10-12T02:50:05.554572Z",
     "shell.execute_reply": "2023-10-12T02:50:05.553756Z"
    }
   },
   "outputs": [
    {
     "data": {
      "text/html": [
       "<table class=\"dataframe\">\n",
       "<caption>A data.frame: 6 × 3</caption>\n",
       "<thead>\n",
       "\t<tr><th></th><th scope=col>var</th><th scope=col>r</th><th scope=col>p</th></tr>\n",
       "\t<tr><th></th><th scope=col>&lt;fct&gt;</th><th scope=col>&lt;dbl&gt;</th><th scope=col>&lt;dbl&gt;</th></tr>\n",
       "</thead>\n",
       "<tbody>\n",
       "\t<tr><th scope=row>p__Acidobacteria</th><td>p__Acidobacteria   </td><td>-0.3905858</td><td>1.311292e-46</td></tr>\n",
       "\t<tr><th scope=row>p__Verrucomicrobia</th><td>p__Verrucomicrobia </td><td>-0.3586751</td><td>4.550495e-39</td></tr>\n",
       "\t<tr><th scope=row>p__Rokubacteria</th><td>p__Rokubacteria    </td><td>-0.3364620</td><td>2.647809e-34</td></tr>\n",
       "\t<tr><th scope=row>p__Actinobacteria</th><td>p__Actinobacteria  </td><td> 0.3218787</td><td>2.218247e-31</td></tr>\n",
       "\t<tr><th scope=row>p__Chloroflexi</th><td>p__Chloroflexi     </td><td> 0.2937423</td><td>3.522230e-26</td></tr>\n",
       "\t<tr><th scope=row>p__Gemmatimonadetes</th><td>p__Gemmatimonadetes</td><td> 0.2932926</td><td>4.220590e-26</td></tr>\n",
       "</tbody>\n",
       "</table>\n"
      ],
      "text/latex": [
       "A data.frame: 6 × 3\n",
       "\\begin{tabular}{r|lll}\n",
       "  & var & r & p\\\\\n",
       "  & <fct> & <dbl> & <dbl>\\\\\n",
       "\\hline\n",
       "\tp\\_\\_Acidobacteria & p\\_\\_Acidobacteria    & -0.3905858 & 1.311292e-46\\\\\n",
       "\tp\\_\\_Verrucomicrobia & p\\_\\_Verrucomicrobia  & -0.3586751 & 4.550495e-39\\\\\n",
       "\tp\\_\\_Rokubacteria & p\\_\\_Rokubacteria     & -0.3364620 & 2.647809e-34\\\\\n",
       "\tp\\_\\_Actinobacteria & p\\_\\_Actinobacteria   &  0.3218787 & 2.218247e-31\\\\\n",
       "\tp\\_\\_Chloroflexi & p\\_\\_Chloroflexi      &  0.2937423 & 3.522230e-26\\\\\n",
       "\tp\\_\\_Gemmatimonadetes & p\\_\\_Gemmatimonadetes &  0.2932926 & 4.220590e-26\\\\\n",
       "\\end{tabular}\n"
      ],
      "text/markdown": [
       "\n",
       "A data.frame: 6 × 3\n",
       "\n",
       "| <!--/--> | var &lt;fct&gt; | r &lt;dbl&gt; | p &lt;dbl&gt; |\n",
       "|---|---|---|---|\n",
       "| p__Acidobacteria | p__Acidobacteria    | -0.3905858 | 1.311292e-46 |\n",
       "| p__Verrucomicrobia | p__Verrucomicrobia  | -0.3586751 | 4.550495e-39 |\n",
       "| p__Rokubacteria | p__Rokubacteria     | -0.3364620 | 2.647809e-34 |\n",
       "| p__Actinobacteria | p__Actinobacteria   |  0.3218787 | 2.218247e-31 |\n",
       "| p__Chloroflexi | p__Chloroflexi      |  0.2937423 | 3.522230e-26 |\n",
       "| p__Gemmatimonadetes | p__Gemmatimonadetes |  0.2932926 | 4.220590e-26 |\n",
       "\n"
      ],
      "text/plain": [
       "                    var                 r          p           \n",
       "p__Acidobacteria    p__Acidobacteria    -0.3905858 1.311292e-46\n",
       "p__Verrucomicrobia  p__Verrucomicrobia  -0.3586751 4.550495e-39\n",
       "p__Rokubacteria     p__Rokubacteria     -0.3364620 2.647809e-34\n",
       "p__Actinobacteria   p__Actinobacteria    0.3218787 2.218247e-31\n",
       "p__Chloroflexi      p__Chloroflexi       0.2937423 3.522230e-26\n",
       "p__Gemmatimonadetes p__Gemmatimonadetes  0.2932926 4.220590e-26"
      ]
     },
     "metadata": {},
     "output_type": "display_data"
    }
   ],
   "source": [
    "# Show markers \n",
    "head(dataset.dts.aliyun$abd$mar$correlation)"
   ]
  },
  {
   "cell_type": "code",
   "execution_count": 7,
   "id": "5e7601fd-239c-4b92-bf08-e652fb8a6d67",
   "metadata": {
    "execution": {
     "iopub.execute_input": "2023-10-12T02:50:05.556576Z",
     "iopub.status.busy": "2023-10-12T02:50:05.555910Z",
     "iopub.status.idle": "2023-10-12T02:51:08.963487Z",
     "shell.execute_reply": "2023-10-12T02:51:08.960523Z"
    }
   },
   "outputs": [],
   "source": [
    "# Identify ecological markers based on soil pH and TOC in <env> [Mantel test]\n",
    "dataset.dts.aliyun %<>% calc_markers(use.var = c('pH', 'TOC'), annotation.level = 'Phylum', r.thres = 0.1, use.dat = 'env') %>% suppressMessages()"
   ]
  },
  {
   "cell_type": "code",
   "execution_count": 8,
   "id": "a0499b3c-ef6b-4073-99cf-73a6c4a808d6",
   "metadata": {
    "execution": {
     "iopub.execute_input": "2023-10-12T02:51:08.967486Z",
     "iopub.status.busy": "2023-10-12T02:51:08.966359Z",
     "iopub.status.idle": "2023-10-12T02:51:08.987952Z",
     "shell.execute_reply": "2023-10-12T02:51:08.986581Z"
    }
   },
   "outputs": [
    {
     "data": {
      "text/html": [
       "<table class=\"dataframe\">\n",
       "<caption>A data.frame: 4 × 3</caption>\n",
       "<thead>\n",
       "\t<tr><th></th><th scope=col>var</th><th scope=col>r</th><th scope=col>p</th></tr>\n",
       "\t<tr><th></th><th scope=col>&lt;fct&gt;</th><th scope=col>&lt;dbl&gt;</th><th scope=col>&lt;dbl&gt;</th></tr>\n",
       "</thead>\n",
       "<tbody>\n",
       "\t<tr><th scope=row>p__Crenarchaeota</th><td>p__Crenarchaeota   </td><td>0.2354545</td><td>0.001</td></tr>\n",
       "\t<tr><th scope=row>p__Actinobacteria</th><td>p__Actinobacteria  </td><td>0.1192869</td><td>0.001</td></tr>\n",
       "\t<tr><th scope=row>p__Thaumarchaeota</th><td>p__Thaumarchaeota  </td><td>0.1188555</td><td>0.001</td></tr>\n",
       "\t<tr><th scope=row>p__Gemmatimonadetes</th><td>p__Gemmatimonadetes</td><td>0.1096113</td><td>0.001</td></tr>\n",
       "</tbody>\n",
       "</table>\n"
      ],
      "text/latex": [
       "A data.frame: 4 × 3\n",
       "\\begin{tabular}{r|lll}\n",
       "  & var & r & p\\\\\n",
       "  & <fct> & <dbl> & <dbl>\\\\\n",
       "\\hline\n",
       "\tp\\_\\_Crenarchaeota & p\\_\\_Crenarchaeota    & 0.2354545 & 0.001\\\\\n",
       "\tp\\_\\_Actinobacteria & p\\_\\_Actinobacteria   & 0.1192869 & 0.001\\\\\n",
       "\tp\\_\\_Thaumarchaeota & p\\_\\_Thaumarchaeota   & 0.1188555 & 0.001\\\\\n",
       "\tp\\_\\_Gemmatimonadetes & p\\_\\_Gemmatimonadetes & 0.1096113 & 0.001\\\\\n",
       "\\end{tabular}\n"
      ],
      "text/markdown": [
       "\n",
       "A data.frame: 4 × 3\n",
       "\n",
       "| <!--/--> | var &lt;fct&gt; | r &lt;dbl&gt; | p &lt;dbl&gt; |\n",
       "|---|---|---|---|\n",
       "| p__Crenarchaeota | p__Crenarchaeota    | 0.2354545 | 0.001 |\n",
       "| p__Actinobacteria | p__Actinobacteria   | 0.1192869 | 0.001 |\n",
       "| p__Thaumarchaeota | p__Thaumarchaeota   | 0.1188555 | 0.001 |\n",
       "| p__Gemmatimonadetes | p__Gemmatimonadetes | 0.1096113 | 0.001 |\n",
       "\n"
      ],
      "text/plain": [
       "                    var                 r         p    \n",
       "p__Crenarchaeota    p__Crenarchaeota    0.2354545 0.001\n",
       "p__Actinobacteria   p__Actinobacteria   0.1192869 0.001\n",
       "p__Thaumarchaeota   p__Thaumarchaeota   0.1188555 0.001\n",
       "p__Gemmatimonadetes p__Gemmatimonadetes 0.1096113 0.001"
      ]
     },
     "metadata": {},
     "output_type": "display_data"
    }
   ],
   "source": [
    "# Show markers \n",
    "head(dataset.dts.aliyun$abd$mar$correlation)"
   ]
  },
  {
   "cell_type": "code",
   "execution_count": 9,
   "id": "dd7d8a0b-4bef-41c3-af9f-296d070a529a",
   "metadata": {
    "execution": {
     "iopub.execute_input": "2023-10-12T02:51:08.991578Z",
     "iopub.status.busy": "2023-10-12T02:51:08.990382Z",
     "iopub.status.idle": "2023-10-12T02:51:09.210433Z",
     "shell.execute_reply": "2023-10-12T02:51:09.209360Z"
    }
   },
   "outputs": [
    {
     "name": "stdout",
     "output_type": "stream",
     "text": [
      "\u001b[34m──\u001b[39m \u001b[34mThe Summary of Microgeo Dataset\u001b[39m \u001b[34m─────────────────────────────────────────────\u001b[39m\n"
     ]
    },
    {
     "name": "stderr",
     "output_type": "stream",
     "text": [
      "\u001b[36mℹ\u001b[39m object$mat: 6808 ASVs/genes and 1244 samples \u001b[32m\u001b[3m\u001b[32m[subsample depth: 5310]\u001b[32m\u001b[23m\u001b[39m\n",
      "\n",
      "\u001b[36mℹ\u001b[39m object$ant: 6808 ASVs/genes and 7 annotation levels (Kingdom, Phylum, Class, Order, Family, Genus, Species)\n",
      "\n",
      "\u001b[36mℹ\u001b[39m object$met: 1244 samples and 2 variables (longitude, latitude)\n",
      "\n",
      "\u001b[36mℹ\u001b[39m object$map: a SpatialPolygonsDataFrame with the CRS of '+proj=longlat +datum=WGS84 +no_defs'\n",
      "\n",
      "\u001b[36mℹ\u001b[39m object$phy: a phylogenetic tree with 6808 tip labels\n",
      "\n",
      "\u001b[36mℹ\u001b[39m object$env: 1244 samples and 10 variables\n",
      "\n"
     ]
    },
    {
     "name": "stdout",
     "output_type": "stream",
     "text": [
      "\n",
      "\u001b[30m──\u001b[39m \u001b[30mThe Summary of Biogeographic Traits\u001b[39m \u001b[30m─────────────────────────────────────────\u001b[39m\n"
     ]
    },
    {
     "name": "stderr",
     "output_type": "stream",
     "text": [
      "\u001b[32m✔\u001b[39m object$abd$raw: 7 abundance tables (Kingdom, Phylum, Class, Order, Family, Genus, Species)\n",
      "\n",
      "\u001b[32m✔\u001b[39m object$abd$mar: 4 eco-markers at Phylum level (abundance, correlation)\n",
      "\n"
     ]
    },
    {
     "name": "stdout",
     "output_type": "stream",
     "text": [
      "\n",
      "\u001b[44m• To check the summary of dataset, Replace `object` with the variable name of your dataset\u001b[49m\n",
      "\u001b[44m• For example, if the variable name is `dataset.dts`you can run `head(dataset.dts$met)` to check the content of `met`\u001b[49m\n"
     ]
    }
   ],
   "source": [
    "# Show dataset \n",
    "dataset.dts.aliyun %>% show_dataset()"
   ]
  },
  {
   "cell_type": "markdown",
   "id": "ba71f452-62f4-488c-baf7-9689946065da",
   "metadata": {},
   "source": [
    "## Calculate alpha diversity indices"
   ]
  },
  {
   "cell_type": "markdown",
   "id": "32e49891-6bab-43c7-ae54-0642e39ee9d3",
   "metadata": {},
   "source": [
    "We implemented a functiobn named by `calc_alpha_div()`, which calculates serveral alpha diversity indices such as observed ASVs and Shannon index. Just run the following codes."
   ]
  },
  {
   "cell_type": "code",
   "execution_count": 10,
   "id": "6f9018c0-38fa-4614-ac0d-34cf45271bba",
   "metadata": {
    "execution": {
     "iopub.execute_input": "2023-10-12T02:51:09.212990Z",
     "iopub.status.busy": "2023-10-12T02:51:09.212181Z",
     "iopub.status.idle": "2023-10-12T02:51:12.604151Z",
     "shell.execute_reply": "2023-10-12T02:51:12.602996Z"
    }
   },
   "outputs": [],
   "source": [
    "# Calculate alpha diversity indices\n",
    "dataset.dts.aliyun %<>% calc_alpha_div(measures = c(\"observed\", \"shannon\")) %>% suppressMessages()"
   ]
  },
  {
   "cell_type": "code",
   "execution_count": 11,
   "id": "089c2913-0fd1-4ad7-a8a2-0255be621e6a",
   "metadata": {
    "execution": {
     "iopub.execute_input": "2023-10-12T02:51:12.606564Z",
     "iopub.status.busy": "2023-10-12T02:51:12.605695Z",
     "iopub.status.idle": "2023-10-12T02:51:12.779842Z",
     "shell.execute_reply": "2023-10-12T02:51:12.778865Z"
    }
   },
   "outputs": [
    {
     "name": "stdout",
     "output_type": "stream",
     "text": [
      "\u001b[34m──\u001b[39m \u001b[34mThe Summary of Microgeo Dataset\u001b[39m \u001b[34m─────────────────────────────────────────────\u001b[39m\n"
     ]
    },
    {
     "name": "stderr",
     "output_type": "stream",
     "text": [
      "\u001b[36mℹ\u001b[39m object$mat: 6808 ASVs/genes and 1244 samples \u001b[32m\u001b[3m\u001b[32m[subsample depth: 5310]\u001b[32m\u001b[23m\u001b[39m\n",
      "\n",
      "\u001b[36mℹ\u001b[39m object$ant: 6808 ASVs/genes and 7 annotation levels (Kingdom, Phylum, Class, Order, Family, Genus, Species)\n",
      "\n",
      "\u001b[36mℹ\u001b[39m object$met: 1244 samples and 2 variables (longitude, latitude)\n",
      "\n",
      "\u001b[36mℹ\u001b[39m object$map: a SpatialPolygonsDataFrame with the CRS of '+proj=longlat +datum=WGS84 +no_defs'\n",
      "\n",
      "\u001b[36mℹ\u001b[39m object$phy: a phylogenetic tree with 6808 tip labels\n",
      "\n",
      "\u001b[36mℹ\u001b[39m object$env: 1244 samples and 10 variables\n",
      "\n"
     ]
    },
    {
     "name": "stdout",
     "output_type": "stream",
     "text": [
      "\n",
      "\u001b[30m──\u001b[39m \u001b[30mThe Summary of Biogeographic Traits\u001b[39m \u001b[30m─────────────────────────────────────────\u001b[39m\n"
     ]
    },
    {
     "name": "stderr",
     "output_type": "stream",
     "text": [
      "\u001b[32m✔\u001b[39m object$abd$raw: 7 abundance tables (Kingdom, Phylum, Class, Order, Family, Genus, Species)\n",
      "\n",
      "\u001b[32m✔\u001b[39m object$abd$mar: 4 eco-markers at Phylum level (abundance, correlation)\n",
      "\n",
      "\u001b[32m✔\u001b[39m object$div$alpha: 2 alpha diversity index/indices (observed, shannon)\n",
      "\n"
     ]
    },
    {
     "name": "stdout",
     "output_type": "stream",
     "text": [
      "\n",
      "\u001b[44m• To check the summary of dataset, Replace `object` with the variable name of your dataset\u001b[49m\n",
      "\u001b[44m• For example, if the variable name is `dataset.dts`you can run `head(dataset.dts$met)` to check the content of `met`\u001b[49m\n"
     ]
    }
   ],
   "source": [
    "# Show dataset \n",
    "dataset.dts.aliyun %>% show_dataset()"
   ]
  },
  {
   "cell_type": "markdown",
   "id": "e1d4b97b-9b61-44f8-bcfe-1ad9d57d8238",
   "metadata": {},
   "source": [
    "## Calculate beta diversity distance matrices"
   ]
  },
  {
   "cell_type": "markdown",
   "id": "7540f379-b99e-45d2-b84c-aca16d4f1f51",
   "metadata": {},
   "source": [
    "We implemented a function named by `calc_beta_div()`, which calculates serveral beta diversity distance matrix such as Bray-Curtis and Jarccard distance matrix. Just run the following codes."
   ]
  },
  {
   "cell_type": "code",
   "execution_count": 12,
   "id": "ab4e9e5a-6ddc-4b30-ad85-34de2c2dc4ad",
   "metadata": {
    "execution": {
     "iopub.execute_input": "2023-10-12T02:51:12.782278Z",
     "iopub.status.busy": "2023-10-12T02:51:12.781542Z",
     "iopub.status.idle": "2023-10-12T02:51:57.056228Z",
     "shell.execute_reply": "2023-10-12T02:51:57.054558Z"
    }
   },
   "outputs": [],
   "source": [
    "# Calculate alpha diversity indices\n",
    "dataset.dts.aliyun %<>% calc_beta_div(measures = c(\"bray\", \"jaccard\")) %>% suppressMessages()"
   ]
  },
  {
   "cell_type": "code",
   "execution_count": 13,
   "id": "a8a0ae4f-0c15-4a54-9263-fcf0e875c1c2",
   "metadata": {
    "execution": {
     "iopub.execute_input": "2023-10-12T02:51:57.059195Z",
     "iopub.status.busy": "2023-10-12T02:51:57.058268Z",
     "iopub.status.idle": "2023-10-12T02:51:57.257201Z",
     "shell.execute_reply": "2023-10-12T02:51:57.256066Z"
    }
   },
   "outputs": [
    {
     "name": "stdout",
     "output_type": "stream",
     "text": [
      "\u001b[34m──\u001b[39m \u001b[34mThe Summary of Microgeo Dataset\u001b[39m \u001b[34m─────────────────────────────────────────────\u001b[39m\n"
     ]
    },
    {
     "name": "stderr",
     "output_type": "stream",
     "text": [
      "\u001b[36mℹ\u001b[39m object$mat: 6808 ASVs/genes and 1244 samples \u001b[32m\u001b[3m\u001b[32m[subsample depth: 5310]\u001b[32m\u001b[23m\u001b[39m\n",
      "\n",
      "\u001b[36mℹ\u001b[39m object$ant: 6808 ASVs/genes and 7 annotation levels (Kingdom, Phylum, Class, Order, Family, Genus, Species)\n",
      "\n",
      "\u001b[36mℹ\u001b[39m object$met: 1244 samples and 2 variables (longitude, latitude)\n",
      "\n",
      "\u001b[36mℹ\u001b[39m object$map: a SpatialPolygonsDataFrame with the CRS of '+proj=longlat +datum=WGS84 +no_defs'\n",
      "\n",
      "\u001b[36mℹ\u001b[39m object$phy: a phylogenetic tree with 6808 tip labels\n",
      "\n",
      "\u001b[36mℹ\u001b[39m object$env: 1244 samples and 10 variables\n",
      "\n"
     ]
    },
    {
     "name": "stdout",
     "output_type": "stream",
     "text": [
      "\n",
      "\u001b[30m──\u001b[39m \u001b[30mThe Summary of Biogeographic Traits\u001b[39m \u001b[30m─────────────────────────────────────────\u001b[39m\n"
     ]
    },
    {
     "name": "stderr",
     "output_type": "stream",
     "text": [
      "\u001b[32m✔\u001b[39m object$abd$raw: 7 abundance tables (Kingdom, Phylum, Class, Order, Family, Genus, Species)\n",
      "\n",
      "\u001b[32m✔\u001b[39m object$abd$mar: 4 eco-markers at Phylum level (abundance, correlation)\n",
      "\n",
      "\u001b[32m✔\u001b[39m object$div$alpha: 2 alpha diversity index/indices (observed, shannon)\n",
      "\n",
      "\u001b[32m✔\u001b[39m object$div$beta: 2 beta diversity distance matrix/matrices (bray, jaccard)\n",
      "\n"
     ]
    },
    {
     "name": "stdout",
     "output_type": "stream",
     "text": [
      "\n",
      "\u001b[44m• To check the summary of dataset, Replace `object` with the variable name of your dataset\u001b[49m\n",
      "\u001b[44m• For example, if the variable name is `dataset.dts`you can run `head(dataset.dts$met)` to check the content of `met`\u001b[49m\n"
     ]
    }
   ],
   "source": [
    "# Show dataset \n",
    "dataset.dts.aliyun %>% show_dataset()"
   ]
  },
  {
   "cell_type": "code",
   "execution_count": 14,
   "id": "14fe9351-49ec-4fa0-bb7c-3171f4457e2e",
   "metadata": {
    "execution": {
     "iopub.execute_input": "2023-10-12T02:51:57.259898Z",
     "iopub.status.busy": "2023-10-12T02:51:57.259026Z",
     "iopub.status.idle": "2023-10-12T02:51:57.274530Z",
     "shell.execute_reply": "2023-10-12T02:51:57.273435Z"
    }
   },
   "outputs": [
    {
     "data": {
      "text/html": [
       "<table class=\"dataframe\">\n",
       "<caption>A data.frame: 4 × 4</caption>\n",
       "<thead>\n",
       "\t<tr><th></th><th scope=col>s1</th><th scope=col>s2</th><th scope=col>s3</th><th scope=col>s4</th></tr>\n",
       "\t<tr><th></th><th scope=col>&lt;dbl&gt;</th><th scope=col>&lt;dbl&gt;</th><th scope=col>&lt;dbl&gt;</th><th scope=col>&lt;dbl&gt;</th></tr>\n",
       "</thead>\n",
       "<tbody>\n",
       "\t<tr><th scope=row>s1</th><td>0.0000000</td><td>0.4851224</td><td>0.5772128</td><td>0.5018832</td></tr>\n",
       "\t<tr><th scope=row>s2</th><td>0.4851224</td><td>0.0000000</td><td>0.4871940</td><td>0.4177024</td></tr>\n",
       "\t<tr><th scope=row>s3</th><td>0.5772128</td><td>0.4871940</td><td>0.0000000</td><td>0.4013183</td></tr>\n",
       "\t<tr><th scope=row>s4</th><td>0.5018832</td><td>0.4177024</td><td>0.4013183</td><td>0.0000000</td></tr>\n",
       "</tbody>\n",
       "</table>\n"
      ],
      "text/latex": [
       "A data.frame: 4 × 4\n",
       "\\begin{tabular}{r|llll}\n",
       "  & s1 & s2 & s3 & s4\\\\\n",
       "  & <dbl> & <dbl> & <dbl> & <dbl>\\\\\n",
       "\\hline\n",
       "\ts1 & 0.0000000 & 0.4851224 & 0.5772128 & 0.5018832\\\\\n",
       "\ts2 & 0.4851224 & 0.0000000 & 0.4871940 & 0.4177024\\\\\n",
       "\ts3 & 0.5772128 & 0.4871940 & 0.0000000 & 0.4013183\\\\\n",
       "\ts4 & 0.5018832 & 0.4177024 & 0.4013183 & 0.0000000\\\\\n",
       "\\end{tabular}\n"
      ],
      "text/markdown": [
       "\n",
       "A data.frame: 4 × 4\n",
       "\n",
       "| <!--/--> | s1 &lt;dbl&gt; | s2 &lt;dbl&gt; | s3 &lt;dbl&gt; | s4 &lt;dbl&gt; |\n",
       "|---|---|---|---|---|\n",
       "| s1 | 0.0000000 | 0.4851224 | 0.5772128 | 0.5018832 |\n",
       "| s2 | 0.4851224 | 0.0000000 | 0.4871940 | 0.4177024 |\n",
       "| s3 | 0.5772128 | 0.4871940 | 0.0000000 | 0.4013183 |\n",
       "| s4 | 0.5018832 | 0.4177024 | 0.4013183 | 0.0000000 |\n",
       "\n"
      ],
      "text/plain": [
       "   s1        s2        s3        s4       \n",
       "s1 0.0000000 0.4851224 0.5772128 0.5018832\n",
       "s2 0.4851224 0.0000000 0.4871940 0.4177024\n",
       "s3 0.5772128 0.4871940 0.0000000 0.4013183\n",
       "s4 0.5018832 0.4177024 0.4013183 0.0000000"
      ]
     },
     "metadata": {},
     "output_type": "display_data"
    }
   ],
   "source": [
    "# Check results [Bray-Curtis distance]\n",
    "dataset.dts.aliyun$div$bet$bray[1:4, 1:4]"
   ]
  },
  {
   "cell_type": "markdown",
   "id": "7d16a9f1-5e26-4bc3-b1fc-5d53bf662808",
   "metadata": {},
   "source": [
    "## Calculate microbial community assembly indices"
   ]
  },
  {
   "cell_type": "markdown",
   "id": "c70948e9-4248-497d-a278-79cd9f29235d",
   "metadata": {},
   "source": [
    "We implemeted a function named by `calc_phylo_asmb()`, which calculates the metrics involved in microbial community assembly. Just run the following codes."
   ]
  },
  {
   "cell_type": "code",
   "execution_count": 15,
   "id": "625272e1-f041-4f69-bbda-9e1b4ad63292",
   "metadata": {
    "execution": {
     "iopub.execute_input": "2023-10-12T02:51:57.277153Z",
     "iopub.status.busy": "2023-10-12T02:51:57.276244Z",
     "iopub.status.idle": "2023-10-12T02:51:57.355863Z",
     "shell.execute_reply": "2023-10-12T02:51:57.354736Z"
    }
   },
   "outputs": [],
   "source": [
    "# Calculate `alpha.phylo` null model\n",
    "# runs = 9 just for an example. 999 runs may be better \n",
    "dataset.dts.aliyun %<>% calc_phylo_asmb(type = 'alpha.phylo', runs = 9, out.dir = '../test/calc_comm_asmb.rst') %>% suppressMessages()"
   ]
  },
  {
   "cell_type": "code",
   "execution_count": 16,
   "id": "cb81a6ec-cf99-48cb-a945-ad764b142e5b",
   "metadata": {
    "execution": {
     "iopub.execute_input": "2023-10-12T02:51:57.358557Z",
     "iopub.status.busy": "2023-10-12T02:51:57.357806Z",
     "iopub.status.idle": "2023-10-12T02:51:57.372737Z",
     "shell.execute_reply": "2023-10-12T02:51:57.371837Z"
    }
   },
   "outputs": [
    {
     "data": {
      "text/html": [
       "<table class=\"dataframe\">\n",
       "<caption>A data.frame: 6 × 8</caption>\n",
       "<thead>\n",
       "\t<tr><th></th><th scope=col>ntaxa</th><th scope=col>mntd.obs</th><th scope=col>mntd.rand.mean</th><th scope=col>mntd.rand.sd</th><th scope=col>mntd.obs.rank</th><th scope=col>mntd.obs.z</th><th scope=col>mntd.obs.p</th><th scope=col>runs</th></tr>\n",
       "\t<tr><th></th><th scope=col>&lt;int&gt;</th><th scope=col>&lt;dbl&gt;</th><th scope=col>&lt;dbl&gt;</th><th scope=col>&lt;dbl&gt;</th><th scope=col>&lt;dbl&gt;</th><th scope=col>&lt;dbl&gt;</th><th scope=col>&lt;dbl&gt;</th><th scope=col>&lt;dbl&gt;</th></tr>\n",
       "</thead>\n",
       "<tbody>\n",
       "\t<tr><th scope=row>s1</th><td>1002</td><td>0.04390328</td><td>0.08566004</td><td>0.006142561</td><td>1</td><td>-6.797941</td><td>0.1</td><td>9</td></tr>\n",
       "\t<tr><th scope=row>s2</th><td> 953</td><td>0.04841466</td><td>0.08458212</td><td>0.007260174</td><td>1</td><td>-4.981623</td><td>0.1</td><td>9</td></tr>\n",
       "\t<tr><th scope=row>s3</th><td> 840</td><td>0.04982293</td><td>0.09317449</td><td>0.008777077</td><td>1</td><td>-4.939179</td><td>0.1</td><td>9</td></tr>\n",
       "\t<tr><th scope=row>s4</th><td>1023</td><td>0.04563238</td><td>0.08378930</td><td>0.005752973</td><td>1</td><td>-6.632557</td><td>0.1</td><td>9</td></tr>\n",
       "\t<tr><th scope=row>s5</th><td> 889</td><td>0.04766660</td><td>0.09208344</td><td>0.008908550</td><td>1</td><td>-4.985867</td><td>0.1</td><td>9</td></tr>\n",
       "\t<tr><th scope=row>s6</th><td> 977</td><td>0.04838227</td><td>0.08629231</td><td>0.006876969</td><td>1</td><td>-5.512609</td><td>0.1</td><td>9</td></tr>\n",
       "</tbody>\n",
       "</table>\n"
      ],
      "text/latex": [
       "A data.frame: 6 × 8\n",
       "\\begin{tabular}{r|llllllll}\n",
       "  & ntaxa & mntd.obs & mntd.rand.mean & mntd.rand.sd & mntd.obs.rank & mntd.obs.z & mntd.obs.p & runs\\\\\n",
       "  & <int> & <dbl> & <dbl> & <dbl> & <dbl> & <dbl> & <dbl> & <dbl>\\\\\n",
       "\\hline\n",
       "\ts1 & 1002 & 0.04390328 & 0.08566004 & 0.006142561 & 1 & -6.797941 & 0.1 & 9\\\\\n",
       "\ts2 &  953 & 0.04841466 & 0.08458212 & 0.007260174 & 1 & -4.981623 & 0.1 & 9\\\\\n",
       "\ts3 &  840 & 0.04982293 & 0.09317449 & 0.008777077 & 1 & -4.939179 & 0.1 & 9\\\\\n",
       "\ts4 & 1023 & 0.04563238 & 0.08378930 & 0.005752973 & 1 & -6.632557 & 0.1 & 9\\\\\n",
       "\ts5 &  889 & 0.04766660 & 0.09208344 & 0.008908550 & 1 & -4.985867 & 0.1 & 9\\\\\n",
       "\ts6 &  977 & 0.04838227 & 0.08629231 & 0.006876969 & 1 & -5.512609 & 0.1 & 9\\\\\n",
       "\\end{tabular}\n"
      ],
      "text/markdown": [
       "\n",
       "A data.frame: 6 × 8\n",
       "\n",
       "| <!--/--> | ntaxa &lt;int&gt; | mntd.obs &lt;dbl&gt; | mntd.rand.mean &lt;dbl&gt; | mntd.rand.sd &lt;dbl&gt; | mntd.obs.rank &lt;dbl&gt; | mntd.obs.z &lt;dbl&gt; | mntd.obs.p &lt;dbl&gt; | runs &lt;dbl&gt; |\n",
       "|---|---|---|---|---|---|---|---|---|\n",
       "| s1 | 1002 | 0.04390328 | 0.08566004 | 0.006142561 | 1 | -6.797941 | 0.1 | 9 |\n",
       "| s2 |  953 | 0.04841466 | 0.08458212 | 0.007260174 | 1 | -4.981623 | 0.1 | 9 |\n",
       "| s3 |  840 | 0.04982293 | 0.09317449 | 0.008777077 | 1 | -4.939179 | 0.1 | 9 |\n",
       "| s4 | 1023 | 0.04563238 | 0.08378930 | 0.005752973 | 1 | -6.632557 | 0.1 | 9 |\n",
       "| s5 |  889 | 0.04766660 | 0.09208344 | 0.008908550 | 1 | -4.985867 | 0.1 | 9 |\n",
       "| s6 |  977 | 0.04838227 | 0.08629231 | 0.006876969 | 1 | -5.512609 | 0.1 | 9 |\n",
       "\n"
      ],
      "text/plain": [
       "   ntaxa mntd.obs   mntd.rand.mean mntd.rand.sd mntd.obs.rank mntd.obs.z\n",
       "s1 1002  0.04390328 0.08566004     0.006142561  1             -6.797941 \n",
       "s2  953  0.04841466 0.08458212     0.007260174  1             -4.981623 \n",
       "s3  840  0.04982293 0.09317449     0.008777077  1             -4.939179 \n",
       "s4 1023  0.04563238 0.08378930     0.005752973  1             -6.632557 \n",
       "s5  889  0.04766660 0.09208344     0.008908550  1             -4.985867 \n",
       "s6  977  0.04838227 0.08629231     0.006876969  1             -5.512609 \n",
       "   mntd.obs.p runs\n",
       "s1 0.1        9   \n",
       "s2 0.1        9   \n",
       "s3 0.1        9   \n",
       "s4 0.1        9   \n",
       "s5 0.1        9   \n",
       "s6 0.1        9   "
      ]
     },
     "metadata": {},
     "output_type": "display_data"
    }
   ],
   "source": [
    "# Check results \n",
    "head(dataset.dts.aliyun$asb$alpha.phylo)"
   ]
  },
  {
   "cell_type": "code",
   "execution_count": 17,
   "id": "9bc41eb6-5642-4314-b6b7-32aa6cc3c827",
   "metadata": {
    "execution": {
     "iopub.execute_input": "2023-10-12T02:51:57.374895Z",
     "iopub.status.busy": "2023-10-12T02:51:57.374158Z",
     "iopub.status.idle": "2023-10-12T02:53:14.568627Z",
     "shell.execute_reply": "2023-10-12T02:53:14.567517Z"
    }
   },
   "outputs": [],
   "source": [
    "# Calculate `beta.phylo` null model\n",
    "# runs = 9 just for an example. 999 runs may be better \n",
    "dataset.dts.aliyun %<>% calc_phylo_asmb(type = 'beta.phylo', runs = 9, out.dir = '../test/calc_comm_asmb.rst') %>% suppressMessages()"
   ]
  },
  {
   "cell_type": "code",
   "execution_count": 18,
   "id": "60b7ceb8-fe25-470f-8674-cb214e9250f9",
   "metadata": {
    "execution": {
     "iopub.execute_input": "2023-10-12T02:53:14.570844Z",
     "iopub.status.busy": "2023-10-12T02:53:14.570120Z",
     "iopub.status.idle": "2023-10-12T02:53:14.579245Z",
     "shell.execute_reply": "2023-10-12T02:53:14.578400Z"
    }
   },
   "outputs": [
    {
     "data": {
      "text/html": [
       "<style>\n",
       ".list-inline {list-style: none; margin:0; padding: 0}\n",
       ".list-inline>li {display: inline-block}\n",
       ".list-inline>li:not(:last-child)::after {content: \"\\00b7\"; padding: 0 .5ex}\n",
       "</style>\n",
       "<ol class=list-inline><li>'b.mntd'</li><li>'bc'</li><li>'rc'</li><li>'b.nti'</li></ol>\n"
      ],
      "text/latex": [
       "\\begin{enumerate*}\n",
       "\\item 'b.mntd'\n",
       "\\item 'bc'\n",
       "\\item 'rc'\n",
       "\\item 'b.nti'\n",
       "\\end{enumerate*}\n"
      ],
      "text/markdown": [
       "1. 'b.mntd'\n",
       "2. 'bc'\n",
       "3. 'rc'\n",
       "4. 'b.nti'\n",
       "\n",
       "\n"
      ],
      "text/plain": [
       "[1] \"b.mntd\" \"bc\"     \"rc\"     \"b.nti\" "
      ]
     },
     "metadata": {},
     "output_type": "display_data"
    }
   ],
   "source": [
    "# Check distance matrix \n",
    "names(dataset.dts.aliyun$asb$beta.phylo$dis) # distance matrices"
   ]
  },
  {
   "cell_type": "code",
   "execution_count": 19,
   "id": "d7ad20c3-f676-4aa5-8440-3755b37e0352",
   "metadata": {
    "execution": {
     "iopub.execute_input": "2023-10-12T02:53:14.581285Z",
     "iopub.status.busy": "2023-10-12T02:53:14.580591Z",
     "iopub.status.idle": "2023-10-12T02:53:14.594297Z",
     "shell.execute_reply": "2023-10-12T02:53:14.593473Z"
    }
   },
   "outputs": [
    {
     "data": {
      "text/html": [
       "<table class=\"dataframe\">\n",
       "<caption>A data.frame: 6 × 7</caption>\n",
       "<thead>\n",
       "\t<tr><th></th><th scope=col>sample1</th><th scope=col>sample2</th><th scope=col>bMNTD</th><th scope=col>BC</th><th scope=col>bNTI</th><th scope=col>RC</th><th scope=col>process</th></tr>\n",
       "\t<tr><th></th><th scope=col>&lt;chr&gt;</th><th scope=col>&lt;chr&gt;</th><th scope=col>&lt;dbl&gt;</th><th scope=col>&lt;dbl&gt;</th><th scope=col>&lt;dbl&gt;</th><th scope=col>&lt;dbl&gt;</th><th scope=col>&lt;chr&gt;</th></tr>\n",
       "</thead>\n",
       "<tbody>\n",
       "\t<tr><th scope=row>1</th><td>s2</td><td>s1</td><td>0.01567063</td><td>0.4945386</td><td>-7.390820</td><td>-1.0000000</td><td>Homogeneous.Selection </td></tr>\n",
       "\t<tr><th scope=row>2</th><td>s3</td><td>s1</td><td>0.01933495</td><td>0.5892655</td><td>-7.410212</td><td>-0.5555556</td><td>Homogeneous.Selection </td></tr>\n",
       "\t<tr><th scope=row>3</th><td>s4</td><td>s1</td><td>0.01908942</td><td>0.5000000</td><td>-1.928595</td><td>-1.0000000</td><td>Homogenizing.Dispersal</td></tr>\n",
       "\t<tr><th scope=row>4</th><td>s5</td><td>s1</td><td>0.01572110</td><td>0.4173258</td><td>-2.251657</td><td>-1.0000000</td><td>Homogeneous.Selection </td></tr>\n",
       "\t<tr><th scope=row>5</th><td>s6</td><td>s1</td><td>0.01578337</td><td>0.4721281</td><td>-3.574340</td><td>-1.0000000</td><td>Homogeneous.Selection </td></tr>\n",
       "\t<tr><th scope=row>6</th><td>s7</td><td>s1</td><td>0.01845051</td><td>0.4934087</td><td>-5.350482</td><td>-1.0000000</td><td>Homogeneous.Selection </td></tr>\n",
       "</tbody>\n",
       "</table>\n"
      ],
      "text/latex": [
       "A data.frame: 6 × 7\n",
       "\\begin{tabular}{r|lllllll}\n",
       "  & sample1 & sample2 & bMNTD & BC & bNTI & RC & process\\\\\n",
       "  & <chr> & <chr> & <dbl> & <dbl> & <dbl> & <dbl> & <chr>\\\\\n",
       "\\hline\n",
       "\t1 & s2 & s1 & 0.01567063 & 0.4945386 & -7.390820 & -1.0000000 & Homogeneous.Selection \\\\\n",
       "\t2 & s3 & s1 & 0.01933495 & 0.5892655 & -7.410212 & -0.5555556 & Homogeneous.Selection \\\\\n",
       "\t3 & s4 & s1 & 0.01908942 & 0.5000000 & -1.928595 & -1.0000000 & Homogenizing.Dispersal\\\\\n",
       "\t4 & s5 & s1 & 0.01572110 & 0.4173258 & -2.251657 & -1.0000000 & Homogeneous.Selection \\\\\n",
       "\t5 & s6 & s1 & 0.01578337 & 0.4721281 & -3.574340 & -1.0000000 & Homogeneous.Selection \\\\\n",
       "\t6 & s7 & s1 & 0.01845051 & 0.4934087 & -5.350482 & -1.0000000 & Homogeneous.Selection \\\\\n",
       "\\end{tabular}\n"
      ],
      "text/markdown": [
       "\n",
       "A data.frame: 6 × 7\n",
       "\n",
       "| <!--/--> | sample1 &lt;chr&gt; | sample2 &lt;chr&gt; | bMNTD &lt;dbl&gt; | BC &lt;dbl&gt; | bNTI &lt;dbl&gt; | RC &lt;dbl&gt; | process &lt;chr&gt; |\n",
       "|---|---|---|---|---|---|---|---|\n",
       "| 1 | s2 | s1 | 0.01567063 | 0.4945386 | -7.390820 | -1.0000000 | Homogeneous.Selection  |\n",
       "| 2 | s3 | s1 | 0.01933495 | 0.5892655 | -7.410212 | -0.5555556 | Homogeneous.Selection  |\n",
       "| 3 | s4 | s1 | 0.01908942 | 0.5000000 | -1.928595 | -1.0000000 | Homogenizing.Dispersal |\n",
       "| 4 | s5 | s1 | 0.01572110 | 0.4173258 | -2.251657 | -1.0000000 | Homogeneous.Selection  |\n",
       "| 5 | s6 | s1 | 0.01578337 | 0.4721281 | -3.574340 | -1.0000000 | Homogeneous.Selection  |\n",
       "| 6 | s7 | s1 | 0.01845051 | 0.4934087 | -5.350482 | -1.0000000 | Homogeneous.Selection  |\n",
       "\n"
      ],
      "text/plain": [
       "  sample1 sample2 bMNTD      BC        bNTI      RC        \n",
       "1 s2      s1      0.01567063 0.4945386 -7.390820 -1.0000000\n",
       "2 s3      s1      0.01933495 0.5892655 -7.410212 -0.5555556\n",
       "3 s4      s1      0.01908942 0.5000000 -1.928595 -1.0000000\n",
       "4 s5      s1      0.01572110 0.4173258 -2.251657 -1.0000000\n",
       "5 s6      s1      0.01578337 0.4721281 -3.574340 -1.0000000\n",
       "6 s7      s1      0.01845051 0.4934087 -5.350482 -1.0000000\n",
       "  process               \n",
       "1 Homogeneous.Selection \n",
       "2 Homogeneous.Selection \n",
       "3 Homogenizing.Dispersal\n",
       "4 Homogeneous.Selection \n",
       "5 Homogeneous.Selection \n",
       "6 Homogeneous.Selection "
      ]
     },
     "metadata": {},
     "output_type": "display_data"
    }
   ],
   "source": [
    "# Check the results \n",
    "head(dataset.dts.aliyun$asb$beta.phylo$raw$result) # the raw result of `iCAMP::qpen()`"
   ]
  },
  {
   "cell_type": "code",
   "execution_count": 20,
   "id": "4ca490bf-2864-4249-af5c-5b53562195e4",
   "metadata": {
    "execution": {
     "iopub.execute_input": "2023-10-12T02:53:14.596513Z",
     "iopub.status.busy": "2023-10-12T02:53:14.595820Z",
     "iopub.status.idle": "2023-10-12T02:53:14.801177Z",
     "shell.execute_reply": "2023-10-12T02:53:14.800078Z"
    }
   },
   "outputs": [
    {
     "name": "stdout",
     "output_type": "stream",
     "text": [
      "\u001b[34m──\u001b[39m \u001b[34mThe Summary of Microgeo Dataset\u001b[39m \u001b[34m─────────────────────────────────────────────\u001b[39m\n"
     ]
    },
    {
     "name": "stderr",
     "output_type": "stream",
     "text": [
      "\u001b[36mℹ\u001b[39m object$mat: 6808 ASVs/genes and 1244 samples \u001b[32m\u001b[3m\u001b[32m[subsample depth: 5310]\u001b[32m\u001b[23m\u001b[39m\n",
      "\n",
      "\u001b[36mℹ\u001b[39m object$ant: 6808 ASVs/genes and 7 annotation levels (Kingdom, Phylum, Class, Order, Family, Genus, Species)\n",
      "\n",
      "\u001b[36mℹ\u001b[39m object$met: 1244 samples and 2 variables (longitude, latitude)\n",
      "\n",
      "\u001b[36mℹ\u001b[39m object$map: a SpatialPolygonsDataFrame with the CRS of '+proj=longlat +datum=WGS84 +no_defs'\n",
      "\n",
      "\u001b[36mℹ\u001b[39m object$phy: a phylogenetic tree with 6808 tip labels\n",
      "\n",
      "\u001b[36mℹ\u001b[39m object$env: 1244 samples and 10 variables\n",
      "\n"
     ]
    },
    {
     "name": "stdout",
     "output_type": "stream",
     "text": [
      "\n",
      "\u001b[30m──\u001b[39m \u001b[30mThe Summary of Biogeographic Traits\u001b[39m \u001b[30m─────────────────────────────────────────\u001b[39m\n"
     ]
    },
    {
     "name": "stderr",
     "output_type": "stream",
     "text": [
      "\u001b[32m✔\u001b[39m object$abd$raw: 7 abundance tables (Kingdom, Phylum, Class, Order, Family, Genus, Species)\n",
      "\n",
      "\u001b[32m✔\u001b[39m object$abd$mar: 4 eco-markers at Phylum level (abundance, correlation)\n",
      "\n",
      "\u001b[32m✔\u001b[39m object$div$alpha: 2 alpha diversity index/indices (observed, shannon)\n",
      "\n",
      "\u001b[32m✔\u001b[39m object$div$beta: 2 beta diversity distance matrix/matrices (bray, jaccard)\n",
      "\n",
      "\u001b[32m✔\u001b[39m object$asb$beta.phylo$raw$result: 7 beta phylogenetic assembling index/indices (sample1, sample2, bMNTD, ...)\n",
      "\n",
      "\u001b[32m✔\u001b[39m object$asb$beta.phylo$dis: 4 beta phylogenetic distance matrix/matrices (b.mntd, bc, rc, b.nti)\n",
      "\n"
     ]
    },
    {
     "name": "stdout",
     "output_type": "stream",
     "text": [
      "\n",
      "\u001b[44m• To check the summary of dataset, Replace `object` with the variable name of your dataset\u001b[49m\n",
      "\u001b[44m• For example, if the variable name is `dataset.dts`you can run `head(dataset.dts$met)` to check the content of `met`\u001b[49m\n"
     ]
    }
   ],
   "source": [
    "# Show dataset \n",
    "dataset.dts.aliyun %>% show_dataset()"
   ]
  },
  {
   "cell_type": "markdown",
   "id": "98a3eaa6-460e-40ab-845a-2c19bc6cdcf9",
   "metadata": {},
   "source": [
    " "
   ]
  }
 ],
 "metadata": {
  "kernelspec": {
   "display_name": "R",
   "language": "R",
   "name": "ir"
  },
  "language_info": {
   "codemirror_mode": "r",
   "file_extension": ".r",
   "mimetype": "text/x-r-source",
   "name": "R",
   "pygments_lexer": "r",
   "version": "4.1.2"
  }
 },
 "nbformat": 4,
 "nbformat_minor": 5
}
